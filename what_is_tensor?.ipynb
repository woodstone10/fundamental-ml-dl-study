{
  "nbformat": 4,
  "nbformat_minor": 0,
  "metadata": {
    "colab": {
      "name": "what is tensor?.ipynb",
      "provenance": [],
      "collapsed_sections": [],
      "authorship_tag": "ABX9TyPF2jeyl0f+sQ4/HhdACodu",
      "include_colab_link": true
    },
    "kernelspec": {
      "name": "python3",
      "display_name": "Python 3"
    },
    "language_info": {
      "name": "python"
    }
  },
  "cells": [
    {
      "cell_type": "markdown",
      "metadata": {
        "id": "view-in-github",
        "colab_type": "text"
      },
      "source": [
        "<a href=\"https://colab.research.google.com/github/woodstone10/fundamental-ml-dl-study/blob/main/what_is_tensor%3F.ipynb\" target=\"_parent\"><img src=\"https://colab.research.google.com/assets/colab-badge.svg\" alt=\"Open In Colab\"/></a>"
      ]
    },
    {
      "cell_type": "markdown",
      "metadata": {
        "id": "b9YgjJKVo6js"
      },
      "source": [
        "# what is tensor?\n",
        "\n",
        "scalar = rank 0 tensor\n",
        "\n",
        "vector = rank 1 tensor\n",
        "\n",
        "matrix = rank 2 tensor\n",
        "\n",
        "n-dimention matrix = rank n tensor (n > 2)"
      ]
    },
    {
      "cell_type": "code",
      "metadata": {
        "colab": {
          "base_uri": "https://localhost:8080/"
        },
        "id": "XwBQwwxwoPl1",
        "outputId": "54762718-3588-4cb3-9afa-4996abd2c01b"
      },
      "source": [
        "import tensorflow as tf\n",
        "rank_4_tensor = tf.zeros([3, 2, 4, 5])\n",
        "rank_4_tensor"
      ],
      "execution_count": 2,
      "outputs": [
        {
          "output_type": "execute_result",
          "data": {
            "text/plain": [
              "<tf.Tensor: shape=(3, 2, 4, 5), dtype=float32, numpy=\n",
              "array([[[[0., 0., 0., 0., 0.],\n",
              "         [0., 0., 0., 0., 0.],\n",
              "         [0., 0., 0., 0., 0.],\n",
              "         [0., 0., 0., 0., 0.]],\n",
              "\n",
              "        [[0., 0., 0., 0., 0.],\n",
              "         [0., 0., 0., 0., 0.],\n",
              "         [0., 0., 0., 0., 0.],\n",
              "         [0., 0., 0., 0., 0.]]],\n",
              "\n",
              "\n",
              "       [[[0., 0., 0., 0., 0.],\n",
              "         [0., 0., 0., 0., 0.],\n",
              "         [0., 0., 0., 0., 0.],\n",
              "         [0., 0., 0., 0., 0.]],\n",
              "\n",
              "        [[0., 0., 0., 0., 0.],\n",
              "         [0., 0., 0., 0., 0.],\n",
              "         [0., 0., 0., 0., 0.],\n",
              "         [0., 0., 0., 0., 0.]]],\n",
              "\n",
              "\n",
              "       [[[0., 0., 0., 0., 0.],\n",
              "         [0., 0., 0., 0., 0.],\n",
              "         [0., 0., 0., 0., 0.],\n",
              "         [0., 0., 0., 0., 0.]],\n",
              "\n",
              "        [[0., 0., 0., 0., 0.],\n",
              "         [0., 0., 0., 0., 0.],\n",
              "         [0., 0., 0., 0., 0.],\n",
              "         [0., 0., 0., 0., 0.]]]], dtype=float32)>"
            ]
          },
          "metadata": {
            "tags": []
          },
          "execution_count": 2
        }
      ]
    },
    {
      "cell_type": "code",
      "metadata": {
        "colab": {
          "base_uri": "https://localhost:8080/"
        },
        "id": "tB32JawdrGVC",
        "outputId": "2385e9b6-a1d0-456d-e708-afac696e8db8"
      },
      "source": [
        "print(\"Type of every element:\", rank_4_tensor.dtype)\n",
        "print(\"Number of dimensions:\", rank_4_tensor.ndim)\n",
        "print(\"Shape of tensor:\", rank_4_tensor.shape)\n",
        "print(\"Elements along axis 0 of tensor:\", rank_4_tensor.shape[0])\n",
        "print(\"Elements along the last axis of tensor:\", rank_4_tensor.shape[-1])\n",
        "print(\"Total number of elements (3*2*4*5): \", tf.size(rank_4_tensor).numpy())"
      ],
      "execution_count": 3,
      "outputs": [
        {
          "output_type": "stream",
          "text": [
            "Type of every element: <dtype: 'float32'>\n",
            "Number of dimensions: 4\n",
            "Shape of tensor: (3, 2, 4, 5)\n",
            "Elements along axis 0 of tensor: 3\n",
            "Elements along the last axis of tensor: 5\n",
            "Total number of elements (3*2*4*5):  120\n"
          ],
          "name": "stdout"
        }
      ]
    },
    {
      "cell_type": "markdown",
      "metadata": {
        "id": "MQ4FyeDYrf7-"
      },
      "source": [
        "![image.png](data:image/png;base64,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)"
      ]
    }
  ]
}