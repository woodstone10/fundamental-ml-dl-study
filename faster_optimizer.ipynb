{
  "nbformat": 4,
  "nbformat_minor": 0,
  "metadata": {
    "colab": {
      "name": "faster optimizer.ipynb",
      "provenance": [],
      "collapsed_sections": [],
      "authorship_tag": "ABX9TyN1rPFWutcosJruK1vBJECC",
      "include_colab_link": true
    },
    "kernelspec": {
      "name": "python3",
      "display_name": "Python 3"
    },
    "language_info": {
      "name": "python"
    }
  },
  "cells": [
    {
      "cell_type": "markdown",
      "metadata": {
        "id": "view-in-github",
        "colab_type": "text"
      },
      "source": [
        "<a href=\"https://colab.research.google.com/github/woodstone10/fundamental-ml-dl-study/blob/main/faster_optimizer.ipynb\" target=\"_parent\"><img src=\"https://colab.research.google.com/assets/colab-badge.svg\" alt=\"Open In Colab\"/></a>"
      ]
    },
    {
      "cell_type": "markdown",
      "metadata": {
        "id": "QN-jRgc3uFCT"
      },
      "source": [
        "# Comparison of training speed performance between optimizer algorithms of Neural network\n",
        "\n",
        "---\n",
        "- Stochastic Gradient Descent (SGD) with Nesterov Momentum\n",
        "- RMSProp\n",
        "- AdaGrad\n",
        "- Adam"
      ]
    },
    {
      "cell_type": "code",
      "metadata": {
        "id": "FXxDluhTt_8E"
      },
      "source": [
        "import numpy as np\n",
        "import matplotlib.pyplot as plt\n",
        "import tensorflow as tf"
      ],
      "execution_count": null,
      "outputs": []
    },
    {
      "cell_type": "markdown",
      "metadata": {
        "id": "GCSj0Gisubg1"
      },
      "source": [
        "## Data"
      ]
    },
    {
      "cell_type": "code",
      "metadata": {
        "colab": {
          "base_uri": "https://localhost:8080/"
        },
        "id": "5tporA8Vua1P",
        "outputId": "91f1f1d8-f97a-40c5-9f4b-222051cd43e9"
      },
      "source": [
        "(x_train, y_train), (x_test, y_test) = tf.keras.datasets.mnist.load_data()\n",
        "x_train = tf.keras.utils.normalize(x_train, axis=1)\n",
        "y_train = tf.keras.utils.to_categorical(y_train, 10)\n",
        "x_test = tf.keras.utils.normalize(x_test, axis=1)\n",
        "y_test = tf.keras.utils.to_categorical(y_test, 10)\n",
        "print(x_train.shape, y_train.shape, x_test.shape, y_test.shape)"
      ],
      "execution_count": null,
      "outputs": [
        {
          "output_type": "stream",
          "text": [
            "Downloading data from https://storage.googleapis.com/tensorflow/tf-keras-datasets/mnist.npz\n",
            "11493376/11490434 [==============================] - 0s 0us/step\n",
            "(60000, 28, 28) (60000, 10) (10000, 28, 28) (10000, 10)\n"
          ],
          "name": "stdout"
        }
      ]
    },
    {
      "cell_type": "markdown",
      "metadata": {
        "id": "D82EP_aNuhpB"
      },
      "source": [
        "## Model"
      ]
    },
    {
      "cell_type": "code",
      "metadata": {
        "id": "kpJzK3OAui-c"
      },
      "source": [
        "def train_mnist(algo):\n",
        "    model = tf.keras.Sequential([\n",
        "        tf.keras.layers.Flatten(input_shape=x_train[0].shape),\n",
        "        tf.keras.layers.Dense(250, activation='relu'),\n",
        "        tf.keras.layers.Dense(10, activation='softmax')\n",
        "    ])\n",
        "\n",
        "    # Faster Optimizers\n",
        "    if algo == 'sgd': # Momentum Optimization\n",
        "        optimizer = tf.keras.optimizers.SGD(lr=0.001, momentum=0.9, nesterov=True)\n",
        "    if algo == 'rmsprop':  # RMSProp\n",
        "        optimizer = tf.keras.optimizers.RMSprop(lr=0.001, rho=0.9)\n",
        "    if algo == 'adagrad': # AdaGrad\n",
        "        optimizer = tf.keras.optimizers.Adagrad(learning_rate=0.001,\n",
        "                                                initial_accumulator_value=0.1,\n",
        "                                                epsilon=1e-07)\n",
        "    if algo == 'adam': # Adam and Nadam Optimization\n",
        "        optimizer = tf.keras.optimizers.Adam(lr=0.001, beta_1=0.9, beta_2=0.999)\n",
        "\n",
        "    model.compile(\n",
        "        # optimizer=algo, # Method.1 it is working fine\n",
        "        optimizer=optimizer, # Method.2\n",
        "        loss=tf.keras.losses.categorical_crossentropy,\n",
        "        metrics=['accuracy']\n",
        "    )\n",
        "\n",
        "    history = model.fit(x_train, y_train,\n",
        "                    batch_size=128,\n",
        "                    epochs=10,\n",
        "                    verbose=False,\n",
        "                    shuffle=True,\n",
        "                    validation_data=(x_test, y_test))\n",
        "\n",
        "    return history, model"
      ],
      "execution_count": null,
      "outputs": []
    },
    {
      "cell_type": "code",
      "metadata": {
        "id": "UFoBALIAumqN"
      },
      "source": [
        "mnist = {\n",
        "    'sgd': {'loss': [], 'acc': [], 'val_loss': [], 'val_acc': [], 'history': []},\n",
        "    'rmsprop': {'loss': [], 'acc': [], 'val_loss': [], 'val_acc': [], 'history': []},\n",
        "    'adagrad': {'loss': [], 'acc': [], 'val_loss': [], 'val_acc': [], 'history': []},\n",
        "    'adam': {'loss': [], 'acc': [], 'val_loss': [], 'val_acc': [], 'history': []}\n",
        "}\n"
      ],
      "execution_count": null,
      "outputs": []
    },
    {
      "cell_type": "code",
      "metadata": {
        "colab": {
          "base_uri": "https://localhost:8080/"
        },
        "id": "vsYCEnHjupOu",
        "outputId": "0906482e-6587-4032-9aa8-fd3096834905"
      },
      "source": [
        "iterations = 10\n",
        "for optimizer in ['sgd', 'rmsprop', 'adagrad', 'adam']:\n",
        "    print('--- {} ---'.format(optimizer))\n",
        "    for i in range(iterations):\n",
        "        print('starting ', i)\n",
        "        history, model = train_mnist(optimizer)\n",
        "        train_loss, train_accuracy = model.evaluate(x_train, y_train, verbose=False)\n",
        "        val_loss, val_accuracy = model.evaluate(x_test, y_test, verbose=False)\n",
        "        mnist[optimizer]['loss'].append(train_loss)\n",
        "        mnist[optimizer]['history'].append(history)"
      ],
      "execution_count": null,
      "outputs": [
        {
          "output_type": "stream",
          "text": [
            "--- sgd ---\n",
            "starting  0\n",
            "starting  1\n",
            "starting  2\n",
            "starting  3\n",
            "starting  4\n",
            "starting  5\n",
            "starting  6\n",
            "starting  7\n",
            "starting  8\n",
            "starting  9\n",
            "--- rmsprop ---\n",
            "starting  0\n",
            "starting  1\n",
            "starting  2\n",
            "starting  3\n",
            "starting  4\n",
            "starting  5\n",
            "starting  6\n",
            "starting  7\n",
            "starting  8\n",
            "starting  9\n",
            "--- adagrad ---\n",
            "starting  0\n",
            "starting  1\n",
            "starting  2\n",
            "starting  3\n",
            "starting  4\n",
            "starting  5\n",
            "starting  6\n",
            "starting  7\n",
            "starting  8\n",
            "starting  9\n",
            "--- adam ---\n",
            "starting  0\n",
            "starting  1\n",
            "starting  2\n",
            "starting  3\n",
            "starting  4\n",
            "starting  5\n",
            "starting  6\n",
            "starting  7\n",
            "starting  8\n",
            "starting  9\n"
          ],
          "name": "stdout"
        }
      ]
    },
    {
      "cell_type": "markdown",
      "metadata": {
        "id": "_6AqFsB_2FGd"
      },
      "source": [
        "## Comparison loss between faster optimizer"
      ]
    },
    {
      "cell_type": "code",
      "metadata": {
        "colab": {
          "base_uri": "https://localhost:8080/",
          "height": 296
        },
        "id": "xWVDvHS-ut0k",
        "outputId": "cafcea12-8f68-4c7a-ba9f-3162cd3d7b5d"
      },
      "source": [
        "key = ['loss'][0]\n",
        "for opt in ['sgd', 'rmsprop', 'adagrad', 'adam']:\n",
        "    hist = np.zeros(10)\n",
        "    for h in mnist[opt]['history']:\n",
        "        hist += np.array(h.history[key])\n",
        "    mean = hist / 10\n",
        "    plt.plot(mean, label=opt)\n",
        "plt.legend()\n",
        "plt.title('Comparison of Training Loss between \\n fast optimizer algorithms in Neural Network')\n",
        "plt.show()\n"
      ],
      "execution_count": null,
      "outputs": [
        {
          "output_type": "display_data",
          "data": {
            "image/png": "[encoded data removed]",
            "text/plain": [
              "<Figure size 432x288 with 1 Axes>"
            ]
          },
          "metadata": {
            "tags": [],
            "needs_background": "light"
          }
        }
      ]
    }
  ]
}