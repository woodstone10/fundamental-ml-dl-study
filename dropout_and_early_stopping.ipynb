{
  "nbformat": 4,
  "nbformat_minor": 0,
  "metadata": {
    "colab": {
      "name": "dropout and early stopping.ipynb",
      "provenance": [],
      "collapsed_sections": [],
      "authorship_tag": "ABX9TyP9l+3bH4Y1VGbsx+OdxP8P",
      "include_colab_link": true
    },
    "kernelspec": {
      "name": "python3",
      "display_name": "Python 3"
    },
    "language_info": {
      "name": "python"
    },
    "accelerator": "GPU"
  },
  "cells": [
    {
      "cell_type": "markdown",
      "metadata": {
        "id": "view-in-github",
        "colab_type": "text"
      },
      "source": [
        "<a href=\"https://colab.research.google.com/github/woodstone10/fundamental-ml-dl-study/blob/main/dropout_and_early_stopping.ipynb\" target=\"_parent\"><img src=\"https://colab.research.google.com/assets/colab-badge.svg\" alt=\"Open In Colab\"/></a>"
      ]
    },
    {
      "cell_type": "markdown",
      "metadata": {
        "id": "1q9MuXHzB4wE"
      },
      "source": [
        "# Overfitting and Dropout\n",
        "\n",
        "---\n",
        "Reference:\n",
        "\n",
        "https://www.youtube.com/watch?v=ARq74QuavAo"
      ]
    },
    {
      "cell_type": "code",
      "metadata": {
        "id": "7puqGv5K7rGP"
      },
      "source": [
        "import tensorflow as tf"
      ],
      "execution_count": null,
      "outputs": []
    },
    {
      "cell_type": "code",
      "metadata": {
        "colab": {
          "base_uri": "https://localhost:8080/"
        },
        "id": "WOpiWCgt9tpM",
        "outputId": "3ef33011-658d-4de9-ac4e-4fa7f4e0738a"
      },
      "source": [
        "MNIST = tf.keras.datasets.mnist\n",
        "(x_train, y_train), (x_test, y_test) = MNIST.load_data()"
      ],
      "execution_count": null,
      "outputs": [
        {
          "output_type": "stream",
          "text": [
            "Downloading data from https://storage.googleapis.com/tensorflow/tf-keras-datasets/mnist.npz\n",
            "11493376/11490434 [==============================] - 0s 0us/step\n"
          ],
          "name": "stdout"
        }
      ]
    },
    {
      "cell_type": "code",
      "metadata": {
        "id": "dAnSYVlB-WUh"
      },
      "source": [
        "x_train = x_train.reshape(x_train.shape[0], 784).astype(float)/255\n",
        "x_test = x_test.reshape(x_test.shape[0], 784).astype(float)/255\n",
        "y_train = tf.keras.utils.to_categorical(y_train, 10)\n",
        "y_test = tf.keras.utils.to_categorical(y_test, 10)"
      ],
      "execution_count": null,
      "outputs": []
    },
    {
      "cell_type": "markdown",
      "metadata": {
        "id": "DnnC3Q-wBjS0"
      },
      "source": [
        "## Model - overfitting"
      ]
    },
    {
      "cell_type": "code",
      "metadata": {
        "colab": {
          "base_uri": "https://localhost:8080/"
        },
        "id": "8ImJz4Qf-ahf",
        "outputId": "91c87783-710a-490f-d989-ff3a81c29219"
      },
      "source": [
        "model = \\\n",
        "    tf.keras.Sequential([\n",
        "        tf.keras.layers.Dense(512, input_dim=784, activation='relu'), # input node 784 (25x25)\n",
        "        tf.keras.layers.Dense(256, activation='relu'),\n",
        "        tf.keras.layers.Dense(10, activation='softmax') # classify 10 classes (0~9)\n",
        "    ])\n",
        "model.summary()\n",
        "model.compile(loss='categorical_crossentropy', \n",
        "              optimizer='adam',\n",
        "              metrics=['accuracy'])"
      ],
      "execution_count": null,
      "outputs": [
        {
          "output_type": "stream",
          "text": [
            "Model: \"sequential_6\"\n",
            "_________________________________________________________________\n",
            "Layer (type)                 Output Shape              Param #   \n",
            "=================================================================\n",
            "dense_20 (Dense)             (None, 512)               401920    \n",
            "_________________________________________________________________\n",
            "dense_21 (Dense)             (None, 256)               131328    \n",
            "_________________________________________________________________\n",
            "dense_22 (Dense)             (None, 10)                2570      \n",
            "=================================================================\n",
            "Total params: 535,818\n",
            "Trainable params: 535,818\n",
            "Non-trainable params: 0\n",
            "_________________________________________________________________\n"
          ],
          "name": "stdout"
        }
      ]
    },
    {
      "cell_type": "code",
      "metadata": {
        "colab": {
          "base_uri": "https://localhost:8080/"
        },
        "id": "ZMYIuG-s-pGL",
        "outputId": "32abe253-1869-44bb-b0dc-fcf89776eba6"
      },
      "source": [
        "history = model.fit(x_train, y_train, \n",
        "                 validation_split=0.3, \n",
        "                 epochs=30, \n",
        "                 batch_size=200,\n",
        "                 verbose=1\n",
        "                 )"
      ],
      "execution_count": null,
      "outputs": [
        {
          "output_type": "stream",
          "text": [
            "Epoch 1/30\n",
            "210/210 [==============================] - 1s 4ms/step - loss: 0.5589 - accuracy: 0.8402 - val_loss: 0.1828 - val_accuracy: 0.9454\n",
            "Epoch 2/30\n",
            "210/210 [==============================] - 1s 3ms/step - loss: 0.1184 - accuracy: 0.9650 - val_loss: 0.1098 - val_accuracy: 0.9658\n",
            "Epoch 3/30\n",
            "210/210 [==============================] - 1s 3ms/step - loss: 0.0660 - accuracy: 0.9816 - val_loss: 0.0954 - val_accuracy: 0.9726\n",
            "Epoch 4/30\n",
            "210/210 [==============================] - 1s 4ms/step - loss: 0.0404 - accuracy: 0.9886 - val_loss: 0.0924 - val_accuracy: 0.9728\n",
            "Epoch 5/30\n",
            "210/210 [==============================] - 1s 3ms/step - loss: 0.0292 - accuracy: 0.9915 - val_loss: 0.0919 - val_accuracy: 0.9739\n",
            "Epoch 6/30\n",
            "210/210 [==============================] - 1s 3ms/step - loss: 0.0165 - accuracy: 0.9957 - val_loss: 0.0957 - val_accuracy: 0.9726\n",
            "Epoch 7/30\n",
            "210/210 [==============================] - 1s 4ms/step - loss: 0.0170 - accuracy: 0.9947 - val_loss: 0.1016 - val_accuracy: 0.9738\n",
            "Epoch 8/30\n",
            "210/210 [==============================] - 1s 3ms/step - loss: 0.0095 - accuracy: 0.9974 - val_loss: 0.1110 - val_accuracy: 0.9698\n",
            "Epoch 9/30\n",
            "210/210 [==============================] - 1s 3ms/step - loss: 0.0085 - accuracy: 0.9978 - val_loss: 0.1130 - val_accuracy: 0.9738\n",
            "Epoch 10/30\n",
            "210/210 [==============================] - 1s 3ms/step - loss: 0.0146 - accuracy: 0.9946 - val_loss: 0.1348 - val_accuracy: 0.9683\n",
            "Epoch 11/30\n",
            "210/210 [==============================] - 1s 3ms/step - loss: 0.0128 - accuracy: 0.9951 - val_loss: 0.1077 - val_accuracy: 0.9748\n",
            "Epoch 12/30\n",
            "210/210 [==============================] - 1s 3ms/step - loss: 0.0069 - accuracy: 0.9978 - val_loss: 0.1043 - val_accuracy: 0.9781\n",
            "Epoch 13/30\n",
            "210/210 [==============================] - 1s 3ms/step - loss: 0.0081 - accuracy: 0.9973 - val_loss: 0.1307 - val_accuracy: 0.9718\n",
            "Epoch 14/30\n",
            "210/210 [==============================] - 1s 3ms/step - loss: 0.0126 - accuracy: 0.9955 - val_loss: 0.1188 - val_accuracy: 0.9758\n",
            "Epoch 15/30\n",
            "210/210 [==============================] - 1s 3ms/step - loss: 0.0064 - accuracy: 0.9981 - val_loss: 0.1375 - val_accuracy: 0.9718\n",
            "Epoch 16/30\n",
            "210/210 [==============================] - 1s 3ms/step - loss: 0.0127 - accuracy: 0.9957 - val_loss: 0.1197 - val_accuracy: 0.9769\n",
            "Epoch 17/30\n",
            "210/210 [==============================] - 1s 3ms/step - loss: 0.0024 - accuracy: 0.9996 - val_loss: 0.1089 - val_accuracy: 0.9794\n",
            "Epoch 18/30\n",
            "210/210 [==============================] - 1s 3ms/step - loss: 6.6579e-04 - accuracy: 0.9999 - val_loss: 0.1074 - val_accuracy: 0.9809\n",
            "Epoch 19/30\n",
            "210/210 [==============================] - 1s 4ms/step - loss: 1.7079e-04 - accuracy: 1.0000 - val_loss: 0.1099 - val_accuracy: 0.9807\n",
            "Epoch 20/30\n",
            "210/210 [==============================] - 1s 3ms/step - loss: 8.2769e-05 - accuracy: 1.0000 - val_loss: 0.1120 - val_accuracy: 0.9807\n",
            "Epoch 21/30\n",
            "210/210 [==============================] - 1s 3ms/step - loss: 6.7868e-05 - accuracy: 1.0000 - val_loss: 0.1133 - val_accuracy: 0.9808\n",
            "Epoch 22/30\n",
            "210/210 [==============================] - 1s 3ms/step - loss: 5.6451e-05 - accuracy: 1.0000 - val_loss: 0.1148 - val_accuracy: 0.9807\n",
            "Epoch 23/30\n",
            "210/210 [==============================] - 1s 3ms/step - loss: 4.8779e-05 - accuracy: 1.0000 - val_loss: 0.1161 - val_accuracy: 0.9807\n",
            "Epoch 24/30\n",
            "210/210 [==============================] - 1s 3ms/step - loss: 4.3563e-05 - accuracy: 1.0000 - val_loss: 0.1175 - val_accuracy: 0.9807\n",
            "Epoch 25/30\n",
            "210/210 [==============================] - 1s 4ms/step - loss: 3.7892e-05 - accuracy: 1.0000 - val_loss: 0.1190 - val_accuracy: 0.9806\n",
            "Epoch 26/30\n",
            "210/210 [==============================] - 1s 3ms/step - loss: 3.3468e-05 - accuracy: 1.0000 - val_loss: 0.1200 - val_accuracy: 0.9807\n",
            "Epoch 27/30\n",
            "210/210 [==============================] - 1s 3ms/step - loss: 3.1312e-05 - accuracy: 1.0000 - val_loss: 0.1212 - val_accuracy: 0.9807\n",
            "Epoch 28/30\n",
            "210/210 [==============================] - 1s 4ms/step - loss: 2.6793e-05 - accuracy: 1.0000 - val_loss: 0.1226 - val_accuracy: 0.9806\n",
            "Epoch 29/30\n",
            "210/210 [==============================] - 1s 3ms/step - loss: 2.3546e-05 - accuracy: 1.0000 - val_loss: 0.1237 - val_accuracy: 0.9803\n",
            "Epoch 30/30\n",
            "210/210 [==============================] - 1s 3ms/step - loss: 2.1920e-05 - accuracy: 1.0000 - val_loss: 0.1248 - val_accuracy: 0.9807\n"
          ],
          "name": "stdout"
        }
      ]
    },
    {
      "cell_type": "code",
      "metadata": {
        "colab": {
          "base_uri": "https://localhost:8080/",
          "height": 541
        },
        "id": "QfMF8Jle_QPy",
        "outputId": "9653cb53-fd4a-4705-e6e4-7c0d9d949cf0"
      },
      "source": [
        "import matplotlib.pyplot as plt\n",
        "plt.plot(history.history['loss'])\n",
        "plt.plot(history.history['val_loss'], '')\n",
        "plt.xlabel('Epochs')\n",
        "plt.ylabel('Loss')\n",
        "plt.legend(['loss', 'val_loss'])\n",
        "plt.show()\n",
        "\n",
        "plt.figure()\n",
        "plt.plot(history.history['accuracy'])\n",
        "plt.plot(history.history['val_accuracy'], '')\n",
        "plt.xlabel('Epochs')\n",
        "plt.ylabel('accuracy')\n",
        "plt.legend(['accuracy', 'val_accuracy'])\n",
        "plt.show()"
      ],
      "execution_count": null,
      "outputs": [
        {
          "output_type": "display_data",
          "data": {
            "image/png": "[encoded data removed]",
            "text/plain": [
              "<Figure size 432x288 with 1 Axes>"
            ]
          },
          "metadata": {
            "tags": [],
            "needs_background": "light"
          }
        },
        {
          "output_type": "display_data",
          "data": {
            "image/png": "[encoded data removed]",
            "text/plain": [
              "<Figure size 432x288 with 1 Axes>"
            ]
          },
          "metadata": {
            "tags": [],
            "needs_background": "light"
          }
        }
      ]
    },
    {
      "cell_type": "code",
      "metadata": {
        "colab": {
          "base_uri": "https://localhost:8080/"
        },
        "id": "6CIeOlg0BUkT",
        "outputId": "b405dc21-183d-4def-baed-a42cbb4f4979"
      },
      "source": [
        "model.evaluate(x_test,  y_test, verbose = 0)"
      ],
      "execution_count": null,
      "outputs": [
        {
          "output_type": "execute_result",
          "data": {
            "text/plain": [
              "[0.09274612367153168, 0.982699990272522]"
            ]
          },
          "metadata": {
            "tags": []
          },
          "execution_count": 26
        }
      ]
    },
    {
      "cell_type": "markdown",
      "metadata": {
        "id": "st2qt1WABowS"
      },
      "source": [
        "## Model with Drop-out and Early-stopping"
      ]
    },
    {
      "cell_type": "code",
      "metadata": {
        "colab": {
          "base_uri": "https://localhost:8080/"
        },
        "id": "nV1WHrtV_ggB",
        "outputId": "8131f103-3225-4394-8f0a-31863bbd95cb"
      },
      "source": [
        "from tensorflow.keras.callbacks import EarlyStopping, ModelCheckpoint\n",
        "model = \\\n",
        "    tf.keras.Sequential([\n",
        "        tf.keras.layers.Dense(512, input_dim=784, activation='relu'), \n",
        "        tf.keras.layers.Dropout(0.3),\n",
        "        tf.keras.layers.Dense(256, activation='relu'),\n",
        "        tf.keras.layers.Dropout(0.3),       \n",
        "        tf.keras.layers.Dense(10, activation='softmax') \n",
        "    ])\n",
        "model.summary()\n",
        "model.compile(loss='categorical_crossentropy', \n",
        "              optimizer='adam',\n",
        "              metrics=['accuracy'])\n",
        "callbacks = [EarlyStopping(monitor='val_accuracy', patience=3)]"
      ],
      "execution_count": null,
      "outputs": [
        {
          "output_type": "stream",
          "text": [
            "Model: \"sequential_8\"\n",
            "_________________________________________________________________\n",
            "Layer (type)                 Output Shape              Param #   \n",
            "=================================================================\n",
            "dense_26 (Dense)             (None, 512)               401920    \n",
            "_________________________________________________________________\n",
            "dropout_8 (Dropout)          (None, 512)               0         \n",
            "_________________________________________________________________\n",
            "dense_27 (Dense)             (None, 256)               131328    \n",
            "_________________________________________________________________\n",
            "dropout_9 (Dropout)          (None, 256)               0         \n",
            "_________________________________________________________________\n",
            "dense_28 (Dense)             (None, 10)                2570      \n",
            "=================================================================\n",
            "Total params: 535,818\n",
            "Trainable params: 535,818\n",
            "Non-trainable params: 0\n",
            "_________________________________________________________________\n"
          ],
          "name": "stdout"
        }
      ]
    },
    {
      "cell_type": "code",
      "metadata": {
        "colab": {
          "base_uri": "https://localhost:8080/"
        },
        "id": "bMJsAnSd_42k",
        "outputId": "b19ee713-e001-453e-c4b6-105a2ba74612"
      },
      "source": [
        "history = model.fit(x_train, y_train, \n",
        "                 validation_split=0.3, \n",
        "                 epochs=30, \n",
        "                 batch_size=200,\n",
        "                 verbose=1,\n",
        "                 callbacks=callbacks\n",
        "                 )"
      ],
      "execution_count": null,
      "outputs": [
        {
          "output_type": "stream",
          "text": [
            "Epoch 1/30\n",
            "210/210 [==============================] - 1s 4ms/step - loss: 0.6996 - accuracy: 0.7815 - val_loss: 0.1554 - val_accuracy: 0.9536\n",
            "Epoch 2/30\n",
            "210/210 [==============================] - 1s 4ms/step - loss: 0.1642 - accuracy: 0.9516 - val_loss: 0.1143 - val_accuracy: 0.9656\n",
            "Epoch 3/30\n",
            "210/210 [==============================] - 1s 4ms/step - loss: 0.1074 - accuracy: 0.9664 - val_loss: 0.1073 - val_accuracy: 0.9682\n",
            "Epoch 4/30\n",
            "210/210 [==============================] - 1s 4ms/step - loss: 0.0857 - accuracy: 0.9748 - val_loss: 0.0914 - val_accuracy: 0.9736\n",
            "Epoch 5/30\n",
            "210/210 [==============================] - 1s 3ms/step - loss: 0.0669 - accuracy: 0.9785 - val_loss: 0.0955 - val_accuracy: 0.9737\n",
            "Epoch 6/30\n",
            "210/210 [==============================] - 1s 4ms/step - loss: 0.0558 - accuracy: 0.9819 - val_loss: 0.0787 - val_accuracy: 0.9769\n",
            "Epoch 7/30\n",
            "210/210 [==============================] - 1s 4ms/step - loss: 0.0470 - accuracy: 0.9860 - val_loss: 0.0803 - val_accuracy: 0.9772\n",
            "Epoch 8/30\n",
            "210/210 [==============================] - 1s 4ms/step - loss: 0.0389 - accuracy: 0.9870 - val_loss: 0.0842 - val_accuracy: 0.9775\n",
            "Epoch 9/30\n",
            "210/210 [==============================] - 1s 4ms/step - loss: 0.0373 - accuracy: 0.9884 - val_loss: 0.0785 - val_accuracy: 0.9791\n",
            "Epoch 10/30\n",
            "210/210 [==============================] - 1s 4ms/step - loss: 0.0326 - accuracy: 0.9905 - val_loss: 0.0857 - val_accuracy: 0.9769\n",
            "Epoch 11/30\n",
            "210/210 [==============================] - 1s 4ms/step - loss: 0.0279 - accuracy: 0.9906 - val_loss: 0.0905 - val_accuracy: 0.9785\n",
            "Epoch 12/30\n",
            "210/210 [==============================] - 1s 4ms/step - loss: 0.0255 - accuracy: 0.9909 - val_loss: 0.0919 - val_accuracy: 0.9778\n"
          ],
          "name": "stdout"
        }
      ]
    },
    {
      "cell_type": "code",
      "metadata": {
        "colab": {
          "base_uri": "https://localhost:8080/",
          "height": 543
        },
        "id": "AFuT59NxACVi",
        "outputId": "c765fffb-edf3-4b98-8969-903f863634a2"
      },
      "source": [
        "import matplotlib.pyplot as plt\n",
        "plt.plot(history.history['loss'])\n",
        "plt.plot(history.history['val_loss'], '')\n",
        "plt.xlabel('Epochs')\n",
        "plt.ylabel('Loss')\n",
        "plt.legend(['loss', 'val_loss'])\n",
        "plt.show()\n",
        "\n",
        "plt.figure()\n",
        "plt.plot(history.history['accuracy'])\n",
        "plt.plot(history.history['val_accuracy'], '')\n",
        "plt.xlabel('Epochs')\n",
        "plt.ylabel('accuracy')\n",
        "plt.legend(['accuracy', 'val_accuracy'])\n",
        "plt.show()"
      ],
      "execution_count": null,
      "outputs": [
        {
          "output_type": "display_data",
          "data": {
            "image/png": "[encoded data removed]",
            "text/plain": [
              "<Figure size 432x288 with 1 Axes>"
            ]
          },
          "metadata": {
            "tags": [],
            "needs_background": "light"
          }
        },
        {
          "output_type": "display_data",
          "data": {
            "image/png": "[encoded data removed]",
            "text/plain": [
              "<Figure size 432x288 with 1 Axes>"
            ]
          },
          "metadata": {
            "tags": [],
            "needs_background": "light"
          }
        }
      ]
    },
    {
      "cell_type": "code",
      "metadata": {
        "colab": {
          "base_uri": "https://localhost:8080/"
        },
        "id": "rzXX7t0PByAc",
        "outputId": "e4a785ca-784a-46e6-86a9-ecda3a1db5fa"
      },
      "source": [
        "model.evaluate(x_test,  y_test, verbose = 0)"
      ],
      "execution_count": null,
      "outputs": [
        {
          "output_type": "execute_result",
          "data": {
            "text/plain": [
              "[0.07398425787687302, 0.9803000092506409]"
            ]
          },
          "metadata": {
            "tags": []
          },
          "execution_count": 34
        }
      ]
    }
  ]
}