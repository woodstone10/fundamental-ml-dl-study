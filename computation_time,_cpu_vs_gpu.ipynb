{
  "nbformat": 4,
  "nbformat_minor": 0,
  "metadata": {
    "colab": {
      "name": "computation time, cpu vs. gpu.ipynb",
      "provenance": [],
      "collapsed_sections": [],
      "authorship_tag": "ABX9TyNIYHFJXa4Tt6k8FPb/Sjdb",
      "include_colab_link": true
    },
    "kernelspec": {
      "name": "python3",
      "display_name": "Python 3"
    },
    "language_info": {
      "name": "python"
    },
    "accelerator": "GPU"
  },
  "cells": [
    {
      "cell_type": "markdown",
      "metadata": {
        "id": "view-in-github",
        "colab_type": "text"
      },
      "source": [
        "<a href=\"https://colab.research.google.com/github/woodstone10/fundamental-ml-dl-study/blob/main/computation_time%2C_cpu_vs_gpu.ipynb\" target=\"_parent\"><img src=\"https://colab.research.google.com/assets/colab-badge.svg\" alt=\"Open In Colab\"/></a>"
      ]
    },
    {
      "cell_type": "markdown",
      "metadata": {
        "id": "RrqwSGChmtaB"
      },
      "source": [
        "# computation time, CPU vs GPU"
      ]
    },
    {
      "cell_type": "code",
      "metadata": {
        "id": "769prQiSl-BP"
      },
      "source": [
        "import tensorflow as tf"
      ],
      "execution_count": 1,
      "outputs": []
    },
    {
      "cell_type": "code",
      "metadata": {
        "colab": {
          "base_uri": "https://localhost:8080/"
        },
        "id": "oFUrAcesl0kg",
        "outputId": "af4db4d0-211c-4d31-9c38-f87f58bc3f78"
      },
      "source": [
        "import time\n",
        "\n",
        "def measure(x, steps):\n",
        "  tf.matmul(x, x)\n",
        "  start = time.time()\n",
        "  for i in range(steps):\n",
        "    x = tf.matmul(x, x)\n",
        "  _ = x.numpy()\n",
        "  end = time.time()\n",
        "  return end - start\n",
        "\n",
        "shape = (1000, 1000)\n",
        "steps = 200\n",
        "print(\"{} matrix {} multiply\".format(shape, steps))"
      ],
      "execution_count": 2,
      "outputs": [
        {
          "output_type": "stream",
          "text": [
            "(1000, 1000) matrix 200 multiply\n"
          ],
          "name": "stdout"
        }
      ]
    },
    {
      "cell_type": "markdown",
      "metadata": {
        "id": "Wvi-ZSnWmqBn"
      },
      "source": [
        "## CPU"
      ]
    },
    {
      "cell_type": "code",
      "metadata": {
        "colab": {
          "base_uri": "https://localhost:8080/"
        },
        "id": "osBdb8S1mUuk",
        "outputId": "e9db2703-1e11-4258-c944-a49c428a2456"
      },
      "source": [
        "with tf.device(\"/cpu:0\"):\n",
        "  print(\"CPU: {} seconds\".format(measure(tf.random.normal(shape), steps)))"
      ],
      "execution_count": 4,
      "outputs": [
        {
          "output_type": "stream",
          "text": [
            "CPU: 3.6225967407226562 seconds\n"
          ],
          "name": "stdout"
        }
      ]
    },
    {
      "cell_type": "markdown",
      "metadata": {
        "id": "EkFn0Mwwmrd6"
      },
      "source": [
        "## GPU"
      ]
    },
    {
      "cell_type": "code",
      "metadata": {
        "colab": {
          "base_uri": "https://localhost:8080/"
        },
        "id": "rOskNYrhmWmq",
        "outputId": "1c10d801-d33a-43ec-e77b-bd240df800c2"
      },
      "source": [
        "if tf.config.experimental.list_physical_devices(\"GPU\"):\n",
        "  with tf.device(\"/gpu:0\"):\n",
        "    print(\"GPU: {} seconds\".format(measure(tf.random.normal(shape), steps)))\n",
        "else:\n",
        "  print(\"CPU: {} seconds\".format(measure(tf.random.normal(shape), steps)))"
      ],
      "execution_count": 4,
      "outputs": [
        {
          "output_type": "stream",
          "text": [
            "GPU: 0.13550209999084473 seconds\n"
          ],
          "name": "stdout"
        }
      ]
    }
  ]
}